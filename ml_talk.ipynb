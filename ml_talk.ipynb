{
 "cells": [
  {
   "cell_type": "code",
   "execution_count": 2,
   "metadata": {
    "slideshow": {
     "slide_type": "-"
    }
   },
   "outputs": [
    {
     "data": {
      "text/html": [
       "<script>\n",
       "  function code_toggle() {\n",
       "    if (code_shown){\n",
       "      $('div.input').hide('500');\n",
       "      $('#toggleButton').val('Show Code')\n",
       "    } else {\n",
       "      $('div.input').show('500');\n",
       "      $('#toggleButton').val('Hide Code')\n",
       "    }\n",
       "    code_shown = !code_shown\n",
       "  }\n",
       "\n",
       "  $( document ).ready(function(){\n",
       "    code_shown=false;\n",
       "    $('div.input').hide()\n",
       "  });\n",
       "</script>\n",
       "<form action=\"javascript:code_toggle()\"><input type=\"submit\" id=\"toggleButton\" value=\"Show Code\"></form>"
      ],
      "text/plain": [
       "<IPython.core.display.HTML object>"
      ]
     },
     "execution_count": 2,
     "metadata": {},
     "output_type": "execute_result"
    }
   ],
   "source": [
    "from IPython.display import HTML\n",
    "HTML('''<script>\n",
    "  function code_toggle() {\n",
    "    if (code_shown){\n",
    "      $('div.input').hide('500');\n",
    "      $('#toggleButton').val('Show Code')\n",
    "    } else {\n",
    "      $('div.input').show('500');\n",
    "      $('#toggleButton').val('Hide Code')\n",
    "    }\n",
    "    code_shown = !code_shown\n",
    "  }\n",
    "\n",
    "  $( document ).ready(function(){\n",
    "    code_shown=false;\n",
    "    $('div.input').hide()\n",
    "  });\n",
    "</script>\n",
    "<form action=\"javascript:code_toggle()\"><input type=\"submit\" id=\"toggleButton\" value=\"Show Code\"></form>''')"
   ]
  },
  {
   "cell_type": "code",
   "execution_count": 3,
   "metadata": {
    "slideshow": {
     "slide_type": "skip"
    }
   },
   "outputs": [
    {
     "name": "stderr",
     "output_type": "stream",
     "text": [
      "Using TensorFlow backend.\n"
     ]
    }
   ],
   "source": [
    "import numpy as np\n",
    "import matplotlib.pyplot as plt \n",
    "import pandas as pd  \n",
    "import seaborn as sns\n",
    "from sklearn.datasets import load_boston\n",
    "from sklearn.model_selection import train_test_split\n",
    "from sklearn.linear_model import LinearRegression\n",
    "from sklearn.metrics import mean_squared_error, r2_score\n",
    "\n",
    "from keras.models import Sequential\n",
    "from keras.layers import Dense\n",
    "from keras.datasets import mnist\n",
    "from keras.wrappers.scikit_learn import KerasRegressor\n",
    "from sklearn.model_selection import cross_val_score\n",
    "from sklearn.model_selection import KFold\n",
    "from sklearn.preprocessing import StandardScaler\n",
    "from sklearn.pipeline import Pipeline"
   ]
  },
  {
   "cell_type": "markdown",
   "metadata": {
    "slideshow": {
     "slide_type": "notes"
    }
   },
   "source": [
    "# Overview\n",
    "- Intro about machine learning and education \n",
    "    - Examples, fears, hopes\n",
    "- Simple Linear Regression\n",
    "    - 2d Boston\n",
    "        - Look at scatter plot of RM and MEDV\n",
    "        - How do we fit a line?\n",
    "        - How do we know the best fit?\n",
    "        - How do we optimize?\n",
    "    - 3d Boston\n",
    "        - Same stuff\n",
    "    - More d Boston\n",
    "        - Same stuff\n",
    "        - Requires understanding statistics\n",
    "- Logistic Regression\n",
    "    - MNIST: Lots of data\n",
    "    - How does logistic regression work?\n",
    "    - How do we feed in an image?\n",
    "- Simple NN with MNIST\n",
    "- CNN with MNIST\n",
    "- Conclusion\n",
    "    "
   ]
  },
  {
   "cell_type": "code",
   "execution_count": 4,
   "metadata": {
    "slideshow": {
     "slide_type": "skip"
    }
   },
   "outputs": [],
   "source": [
    "boston_dataset = load_boston()"
   ]
  },
  {
   "cell_type": "code",
   "execution_count": 19,
   "metadata": {
    "slideshow": {
     "slide_type": "skip"
    }
   },
   "outputs": [
    {
     "name": "stdout",
     "output_type": "stream",
     "text": [
      ".. _boston_dataset:\n",
      "\n",
      "Boston house prices dataset\n",
      "---------------------------\n",
      "\n",
      "**Data Set Characteristics:**  \n",
      "\n",
      "    :Number of Instances: 506 \n",
      "\n",
      "    :Number of Attributes: 13 numeric/categorical predictive. Median Value (attribute 14) is usually the target.\n",
      "\n",
      "    :Attribute Information (in order):\n",
      "        - CRIM     per capita crime rate by town\n",
      "        - ZN       proportion of residential land zoned for lots over 25,000 sq.ft.\n",
      "        - INDUS    proportion of non-retail business acres per town\n",
      "        - CHAS     Charles River dummy variable (= 1 if tract bounds river; 0 otherwise)\n",
      "        - NOX      nitric oxides concentration (parts per 10 million)\n",
      "        - RM       average number of rooms per dwelling\n",
      "        - AGE      proportion of owner-occupied units built prior to 1940\n",
      "        - DIS      weighted distances to five Boston employment centres\n",
      "        - RAD      index of accessibility to radial highways\n",
      "        - TAX      full-value property-tax rate per $10,000\n",
      "        - PTRATIO  pupil-teacher ratio by town\n",
      "        - B        1000(Bk - 0.63)^2 where Bk is the proportion of blacks by town\n",
      "        - LSTAT    % lower status of the population\n",
      "        - MEDV     Median value of owner-occupied homes in $1000's\n",
      "\n",
      "    :Missing Attribute Values: None\n",
      "\n",
      "    :Creator: Harrison, D. and Rubinfeld, D.L.\n",
      "\n",
      "This is a copy of UCI ML housing dataset.\n",
      "https://archive.ics.uci.edu/ml/machine-learning-databases/housing/\n",
      "\n",
      "\n",
      "This dataset was taken from the StatLib library which is maintained at Carnegie Mellon University.\n",
      "\n",
      "The Boston house-price data of Harrison, D. and Rubinfeld, D.L. 'Hedonic\n",
      "prices and the demand for clean air', J. Environ. Economics & Management,\n",
      "vol.5, 81-102, 1978.   Used in Belsley, Kuh & Welsch, 'Regression diagnostics\n",
      "...', Wiley, 1980.   N.B. Various transformations are used in the table on\n",
      "pages 244-261 of the latter.\n",
      "\n",
      "The Boston house-price data has been used in many machine learning papers that address regression\n",
      "problems.   \n",
      "     \n",
      ".. topic:: References\n",
      "\n",
      "   - Belsley, Kuh & Welsch, 'Regression diagnostics: Identifying Influential Data and Sources of Collinearity', Wiley, 1980. 244-261.\n",
      "   - Quinlan,R. (1993). Combining Instance-Based and Model-Based Learning. In Proceedings on the Tenth International Conference of Machine Learning, 236-243, University of Massachusetts, Amherst. Morgan Kaufmann.\n",
      "\n"
     ]
    }
   ],
   "source": [
    "print(boston_dataset.DESCR)"
   ]
  },
  {
   "cell_type": "code",
   "execution_count": 5,
   "metadata": {
    "slideshow": {
     "slide_type": "skip"
    }
   },
   "outputs": [],
   "source": [
    "boston_df = pd.DataFrame(boston_dataset.data, columns=boston_dataset.feature_names)\n",
    "boston_df['MEDV'] = boston_dataset.target"
   ]
  },
  {
   "cell_type": "code",
   "execution_count": 5,
   "metadata": {
    "slideshow": {
     "slide_type": "skip"
    }
   },
   "outputs": [
    {
     "data": {
      "text/html": [
       "<div>\n",
       "<style scoped>\n",
       "    .dataframe tbody tr th:only-of-type {\n",
       "        vertical-align: middle;\n",
       "    }\n",
       "\n",
       "    .dataframe tbody tr th {\n",
       "        vertical-align: top;\n",
       "    }\n",
       "\n",
       "    .dataframe thead th {\n",
       "        text-align: right;\n",
       "    }\n",
       "</style>\n",
       "<table border=\"1\" class=\"dataframe\">\n",
       "  <thead>\n",
       "    <tr style=\"text-align: right;\">\n",
       "      <th></th>\n",
       "      <th>CRIM</th>\n",
       "      <th>ZN</th>\n",
       "      <th>INDUS</th>\n",
       "      <th>CHAS</th>\n",
       "      <th>NOX</th>\n",
       "      <th>RM</th>\n",
       "      <th>AGE</th>\n",
       "      <th>DIS</th>\n",
       "      <th>RAD</th>\n",
       "      <th>TAX</th>\n",
       "      <th>PTRATIO</th>\n",
       "      <th>B</th>\n",
       "      <th>LSTAT</th>\n",
       "      <th>MEDV</th>\n",
       "    </tr>\n",
       "  </thead>\n",
       "  <tbody>\n",
       "    <tr>\n",
       "      <th>0</th>\n",
       "      <td>0.00632</td>\n",
       "      <td>18.0</td>\n",
       "      <td>2.31</td>\n",
       "      <td>0.0</td>\n",
       "      <td>0.538</td>\n",
       "      <td>6.575</td>\n",
       "      <td>65.2</td>\n",
       "      <td>4.0900</td>\n",
       "      <td>1.0</td>\n",
       "      <td>296.0</td>\n",
       "      <td>15.3</td>\n",
       "      <td>396.90</td>\n",
       "      <td>4.98</td>\n",
       "      <td>24.0</td>\n",
       "    </tr>\n",
       "    <tr>\n",
       "      <th>1</th>\n",
       "      <td>0.02731</td>\n",
       "      <td>0.0</td>\n",
       "      <td>7.07</td>\n",
       "      <td>0.0</td>\n",
       "      <td>0.469</td>\n",
       "      <td>6.421</td>\n",
       "      <td>78.9</td>\n",
       "      <td>4.9671</td>\n",
       "      <td>2.0</td>\n",
       "      <td>242.0</td>\n",
       "      <td>17.8</td>\n",
       "      <td>396.90</td>\n",
       "      <td>9.14</td>\n",
       "      <td>21.6</td>\n",
       "    </tr>\n",
       "    <tr>\n",
       "      <th>2</th>\n",
       "      <td>0.02729</td>\n",
       "      <td>0.0</td>\n",
       "      <td>7.07</td>\n",
       "      <td>0.0</td>\n",
       "      <td>0.469</td>\n",
       "      <td>7.185</td>\n",
       "      <td>61.1</td>\n",
       "      <td>4.9671</td>\n",
       "      <td>2.0</td>\n",
       "      <td>242.0</td>\n",
       "      <td>17.8</td>\n",
       "      <td>392.83</td>\n",
       "      <td>4.03</td>\n",
       "      <td>34.7</td>\n",
       "    </tr>\n",
       "    <tr>\n",
       "      <th>3</th>\n",
       "      <td>0.03237</td>\n",
       "      <td>0.0</td>\n",
       "      <td>2.18</td>\n",
       "      <td>0.0</td>\n",
       "      <td>0.458</td>\n",
       "      <td>6.998</td>\n",
       "      <td>45.8</td>\n",
       "      <td>6.0622</td>\n",
       "      <td>3.0</td>\n",
       "      <td>222.0</td>\n",
       "      <td>18.7</td>\n",
       "      <td>394.63</td>\n",
       "      <td>2.94</td>\n",
       "      <td>33.4</td>\n",
       "    </tr>\n",
       "    <tr>\n",
       "      <th>4</th>\n",
       "      <td>0.06905</td>\n",
       "      <td>0.0</td>\n",
       "      <td>2.18</td>\n",
       "      <td>0.0</td>\n",
       "      <td>0.458</td>\n",
       "      <td>7.147</td>\n",
       "      <td>54.2</td>\n",
       "      <td>6.0622</td>\n",
       "      <td>3.0</td>\n",
       "      <td>222.0</td>\n",
       "      <td>18.7</td>\n",
       "      <td>396.90</td>\n",
       "      <td>5.33</td>\n",
       "      <td>36.2</td>\n",
       "    </tr>\n",
       "  </tbody>\n",
       "</table>\n",
       "</div>"
      ],
      "text/plain": [
       "      CRIM    ZN  INDUS  CHAS    NOX     RM   AGE     DIS  RAD    TAX  \\\n",
       "0  0.00632  18.0   2.31   0.0  0.538  6.575  65.2  4.0900  1.0  296.0   \n",
       "1  0.02731   0.0   7.07   0.0  0.469  6.421  78.9  4.9671  2.0  242.0   \n",
       "2  0.02729   0.0   7.07   0.0  0.469  7.185  61.1  4.9671  2.0  242.0   \n",
       "3  0.03237   0.0   2.18   0.0  0.458  6.998  45.8  6.0622  3.0  222.0   \n",
       "4  0.06905   0.0   2.18   0.0  0.458  7.147  54.2  6.0622  3.0  222.0   \n",
       "\n",
       "   PTRATIO       B  LSTAT  MEDV  \n",
       "0     15.3  396.90   4.98  24.0  \n",
       "1     17.8  396.90   9.14  21.6  \n",
       "2     17.8  392.83   4.03  34.7  \n",
       "3     18.7  394.63   2.94  33.4  \n",
       "4     18.7  396.90   5.33  36.2  "
      ]
     },
     "execution_count": 5,
     "metadata": {},
     "output_type": "execute_result"
    }
   ],
   "source": [
    "boston_df.head()"
   ]
  },
  {
   "cell_type": "code",
   "execution_count": 12,
   "metadata": {
    "slideshow": {
     "slide_type": "skip"
    }
   },
   "outputs": [
    {
     "data": {
      "text/plain": [
       "<matplotlib.axes._subplots.AxesSubplot at 0x1a3cdebac8>"
      ]
     },
     "execution_count": 12,
     "metadata": {},
     "output_type": "execute_result"
    },
    {
     "data": {
      "image/png": "[encoded data removed]",
      "text/plain": [
       "<Figure size 842.4x595.44 with 2 Axes>"
      ]
     },
     "metadata": {},
     "output_type": "display_data"
    }
   ],
   "source": [
    "sns.set(rc={'figure.figsize':(11.7,8.27)})\n",
    "correlation_matrix = boston_df.corr().round(2)\n",
    "sns.heatmap(data=correlation_matrix, annot=True)"
   ]
  },
  {
   "cell_type": "code",
   "execution_count": 6,
   "metadata": {
    "slideshow": {
     "slide_type": "skip"
    }
   },
   "outputs": [],
   "source": [
    "# X = pd.DataFrame(np.c_[boston_df['LSTAT'], boston_df['RM'], boston_df['CRIM'], boston_df['ZN'], boston_df['INDUS'], boston_df['CHAS'], boston_df['NOX'], boston_df['AGE'], boston_df['DIS'], boston_df['RAD'], boston_df['TAX'], boston_df['PTRATIO'], boston_df['B']], columns = ['LSTAT','RM', 'CRIM', 'ZN', 'INDUS', 'CHAS', 'NOX', 'AGE', 'DIS', 'RAD', 'TAX', 'PTRATIO', 'B'])\n",
    "# X = pd.DataFrame(np.c_[boston_df['LSTAT'], boston_df['RM']], columns=['LSTAT', 'RM'])\n",
    "X = pd.DataFrame(boston_df['RM'], columns=['RM'])\n",
    "Y = boston_df['MEDV']"
   ]
  },
  {
   "cell_type": "code",
   "execution_count": 7,
   "metadata": {
    "slideshow": {
     "slide_type": "skip"
    }
   },
   "outputs": [],
   "source": [
    "only_rooms_df = pd.DataFrame(np.c_[boston_df['RM'], boston_df['MEDV']], columns=['RM', 'MEDV'])"
   ]
  },
  {
   "cell_type": "markdown",
   "metadata": {
    "slideshow": {
     "slide_type": "slide"
    }
   },
   "source": [
    "# What is Machine Learning?"
   ]
  },
  {
   "cell_type": "markdown",
   "metadata": {
    "slideshow": {
     "slide_type": "slide"
    }
   },
   "source": [
    "# What is Machine Learning?\n",
    "## Consider the familiar example -- RM is average number of rooms, MEDV is median value in $1000s\n",
    "## We will try to predict the value of a home from the number of rooms."
   ]
  },
  {
   "cell_type": "code",
   "execution_count": 8,
   "metadata": {
    "slideshow": {
     "slide_type": "-"
    }
   },
   "outputs": [
    {
     "data": {
      "text/html": [
       "<div>\n",
       "<style scoped>\n",
       "    .dataframe tbody tr th:only-of-type {\n",
       "        vertical-align: middle;\n",
       "    }\n",
       "\n",
       "    .dataframe tbody tr th {\n",
       "        vertical-align: top;\n",
       "    }\n",
       "\n",
       "    .dataframe thead th {\n",
       "        text-align: right;\n",
       "    }\n",
       "</style>\n",
       "<table border=\"1\" class=\"dataframe\">\n",
       "  <thead>\n",
       "    <tr style=\"text-align: right;\">\n",
       "      <th></th>\n",
       "      <th>RM</th>\n",
       "      <th>MEDV</th>\n",
       "    </tr>\n",
       "  </thead>\n",
       "  <tbody>\n",
       "    <tr>\n",
       "      <th>0</th>\n",
       "      <td>6.575</td>\n",
       "      <td>24.0</td>\n",
       "    </tr>\n",
       "    <tr>\n",
       "      <th>1</th>\n",
       "      <td>6.421</td>\n",
       "      <td>21.6</td>\n",
       "    </tr>\n",
       "    <tr>\n",
       "      <th>2</th>\n",
       "      <td>7.185</td>\n",
       "      <td>34.7</td>\n",
       "    </tr>\n",
       "    <tr>\n",
       "      <th>3</th>\n",
       "      <td>6.998</td>\n",
       "      <td>33.4</td>\n",
       "    </tr>\n",
       "    <tr>\n",
       "      <th>4</th>\n",
       "      <td>7.147</td>\n",
       "      <td>36.2</td>\n",
       "    </tr>\n",
       "    <tr>\n",
       "      <th>5</th>\n",
       "      <td>6.430</td>\n",
       "      <td>28.7</td>\n",
       "    </tr>\n",
       "    <tr>\n",
       "      <th>6</th>\n",
       "      <td>6.012</td>\n",
       "      <td>22.9</td>\n",
       "    </tr>\n",
       "    <tr>\n",
       "      <th>7</th>\n",
       "      <td>6.172</td>\n",
       "      <td>27.1</td>\n",
       "    </tr>\n",
       "    <tr>\n",
       "      <th>8</th>\n",
       "      <td>5.631</td>\n",
       "      <td>16.5</td>\n",
       "    </tr>\n",
       "    <tr>\n",
       "      <th>9</th>\n",
       "      <td>6.004</td>\n",
       "      <td>18.9</td>\n",
       "    </tr>\n",
       "  </tbody>\n",
       "</table>\n",
       "</div>"
      ],
      "text/plain": [
       "      RM  MEDV\n",
       "0  6.575  24.0\n",
       "1  6.421  21.6\n",
       "2  7.185  34.7\n",
       "3  6.998  33.4\n",
       "4  7.147  36.2\n",
       "5  6.430  28.7\n",
       "6  6.012  22.9\n",
       "7  6.172  27.1\n",
       "8  5.631  16.5\n",
       "9  6.004  18.9"
      ]
     },
     "execution_count": 8,
     "metadata": {},
     "output_type": "execute_result"
    }
   ],
   "source": [
    "only_rooms_df.head(10)"
   ]
  },
  {
   "cell_type": "markdown",
   "metadata": {
    "slideshow": {
     "slide_type": "slide"
    }
   },
   "source": [
    "# Does there seem to be any correlation between number of rooms and price?"
   ]
  },
  {
   "cell_type": "code",
   "execution_count": 13,
   "metadata": {
    "slideshow": {
     "slide_type": "-"
    }
   },
   "outputs": [
    {
     "data": {
      "image/png": "[encoded data removed]",
      "text/plain": [
       "<Figure size 842.4x595.44 with 1 Axes>"
      ]
     },
     "metadata": {},
     "output_type": "display_data"
    }
   ],
   "source": [
    "ax = sns.scatterplot(x=\"RM\", y=\"MEDV\", data=only_rooms_df)"
   ]
  },
  {
   "cell_type": "code",
   "execution_count": 10,
   "metadata": {
    "slideshow": {
     "slide_type": "slide"
    }
   },
   "outputs": [
    {
     "data": {
      "image/png": "[encoded data removed]",
      "text/plain": [
       "<Figure size 842.4x595.44 with 1 Axes>"
      ]
     },
     "metadata": {},
     "output_type": "display_data"
    }
   ],
   "source": [
    "ax = sns.scatterplot(x=\"RM\", y=\"MEDV\", data=only_rooms_df)"
   ]
  },
  {
   "cell_type": "markdown",
   "metadata": {
    "slideshow": {
     "slide_type": "-"
    }
   },
   "source": [
    "## Let's see if we can *fit a line* to this data."
   ]
  },
  {
   "cell_type": "code",
   "execution_count": 11,
   "metadata": {
    "slideshow": {
     "slide_type": "slide"
    }
   },
   "outputs": [
    {
     "data": {
      "image/png": "[encoded data removed]",
      "text/plain": [
       "<Figure size 842.4x595.44 with 1 Axes>"
      ]
     },
     "metadata": {},
     "output_type": "display_data"
    }
   ],
   "source": [
    "ax = sns.scatterplot(x=\"RM\", y=\"MEDV\", data=only_rooms_df)"
   ]
  },
  {
   "cell_type": "markdown",
   "metadata": {
    "slideshow": {
     "slide_type": "-"
    }
   },
   "source": [
    "## So we want to find $a$ and $b$ such that $y = ax + b$ where $y$ is the price of the house and $b$ is the number of rooms."
   ]
  },
  {
   "cell_type": "markdown",
   "metadata": {
    "slideshow": {
     "slide_type": "slide"
    }
   },
   "source": [
    "# Big Idea\n",
    "## We have a bunch of data points that sort of make a line.\n",
    "## We want to find values for $a$ and $b$ in $y = ax + b$ that *fit* the data points.\n",
    "## We define a criterion for how well a line fits the data.\n",
    "## We look for a line that optimizes our criterion."
   ]
  },
  {
   "cell_type": "code",
   "execution_count": 28,
   "metadata": {
    "slideshow": {
     "slide_type": "skip"
    }
   },
   "outputs": [],
   "source": [
    "X_train, X_test, Y_train, Y_test = train_test_split(X, Y, test_size = 0.25, random_state=666)"
   ]
  },
  {
   "cell_type": "code",
   "execution_count": 34,
   "metadata": {},
   "outputs": [
    {
     "data": {
      "text/plain": [
       "343    6.696\n",
       "342    6.540\n",
       "458    6.301\n",
       "376    6.649\n",
       "302    6.495\n",
       "Name: RM, dtype: float64"
      ]
     },
     "execution_count": 34,
     "metadata": {},
     "output_type": "execute_result"
    }
   ],
   "source": [
    "train['RM'].head()"
   ]
  },
  {
   "cell_type": "code",
   "execution_count": 36,
   "metadata": {
    "slideshow": {
     "slide_type": "skip"
    }
   },
   "outputs": [
    {
     "data": {
      "text/plain": [
       "LinearRegression(copy_X=True, fit_intercept=True, n_jobs=None,\n",
       "         normalize=False)"
      ]
     },
     "execution_count": 36,
     "metadata": {},
     "output_type": "execute_result"
    }
   ],
   "source": [
    "lin_model = LinearRegression()\n",
    "lin_model.fit(train['RM'].to_frame(), train['MEDV'].to_frame())"
   ]
  },
  {
   "cell_type": "code",
   "execution_count": 37,
   "metadata": {
    "slideshow": {
     "slide_type": "skip"
    }
   },
   "outputs": [
    {
     "data": {
      "text/plain": [
       "array([[9.27368249]])"
      ]
     },
     "execution_count": 37,
     "metadata": {},
     "output_type": "execute_result"
    }
   ],
   "source": [
    "lin_model.coef_"
   ]
  },
  {
   "cell_type": "code",
   "execution_count": 38,
   "metadata": {
    "slideshow": {
     "slide_type": "skip"
    }
   },
   "outputs": [
    {
     "data": {
      "text/plain": [
       "array([-35.64009735])"
      ]
     },
     "execution_count": 38,
     "metadata": {},
     "output_type": "execute_result"
    }
   ],
   "source": [
    "lin_model.intercept_"
   ]
  },
  {
   "cell_type": "code",
   "execution_count": 22,
   "metadata": {},
   "outputs": [],
   "source": [
    "train, test = train_test_split(only_rooms_df, test_size = 0.25, random_state=666)"
   ]
  },
  {
   "cell_type": "code",
   "execution_count": 42,
   "metadata": {},
   "outputs": [
    {
     "name": "stderr",
     "output_type": "stream",
     "text": [
      "/Users/mmoran/anaconda/envs/mmc2019/lib/python3.6/site-packages/ipykernel_launcher.py:1: SettingWithCopyWarning: \n",
      "A value is trying to be set on a copy of a slice from a DataFrame.\n",
      "Try using .loc[row_indexer,col_indexer] = value instead\n",
      "\n",
      "See the caveats in the documentation: http://pandas.pydata.org/pandas-docs/stable/indexing.html#indexing-view-versus-copy\n",
      "  \"\"\"Entry point for launching an IPython kernel.\n"
     ]
    }
   ],
   "source": [
    "test['prediction'] = test['RM'] * lin_model.coef_[0] + lin_model.intercept_"
   ]
  },
  {
   "cell_type": "code",
   "execution_count": 44,
   "metadata": {},
   "outputs": [
    {
     "name": "stderr",
     "output_type": "stream",
     "text": [
      "/Users/mmoran/anaconda/envs/mmc2019/lib/python3.6/site-packages/ipykernel_launcher.py:1: SettingWithCopyWarning: \n",
      "A value is trying to be set on a copy of a slice from a DataFrame.\n",
      "Try using .loc[row_indexer,col_indexer] = value instead\n",
      "\n",
      "See the caveats in the documentation: http://pandas.pydata.org/pandas-docs/stable/indexing.html#indexing-view-versus-copy\n",
      "  \"\"\"Entry point for launching an IPython kernel.\n"
     ]
    }
   ],
   "source": [
    "test['diff_squared'] = (test['prediction'] - test['MEDV']) ** 2"
   ]
  },
  {
   "cell_type": "code",
   "execution_count": 45,
   "metadata": {},
   "outputs": [
    {
     "data": {
      "text/html": [
       "<div>\n",
       "<style scoped>\n",
       "    .dataframe tbody tr th:only-of-type {\n",
       "        vertical-align: middle;\n",
       "    }\n",
       "\n",
       "    .dataframe tbody tr th {\n",
       "        vertical-align: top;\n",
       "    }\n",
       "\n",
       "    .dataframe thead th {\n",
       "        text-align: right;\n",
       "    }\n",
       "</style>\n",
       "<table border=\"1\" class=\"dataframe\">\n",
       "  <thead>\n",
       "    <tr style=\"text-align: right;\">\n",
       "      <th></th>\n",
       "      <th>RM</th>\n",
       "      <th>MEDV</th>\n",
       "      <th>prediction</th>\n",
       "      <th>diff_squared</th>\n",
       "    </tr>\n",
       "  </thead>\n",
       "  <tbody>\n",
       "    <tr>\n",
       "      <th>81</th>\n",
       "      <td>6.619</td>\n",
       "      <td>23.9</td>\n",
       "      <td>25.742407</td>\n",
       "      <td>3.394464</td>\n",
       "    </tr>\n",
       "    <tr>\n",
       "      <th>453</th>\n",
       "      <td>7.393</td>\n",
       "      <td>17.8</td>\n",
       "      <td>32.920237</td>\n",
       "      <td>228.621576</td>\n",
       "    </tr>\n",
       "    <tr>\n",
       "      <th>311</th>\n",
       "      <td>6.122</td>\n",
       "      <td>22.1</td>\n",
       "      <td>21.133387</td>\n",
       "      <td>0.934341</td>\n",
       "    </tr>\n",
       "    <tr>\n",
       "      <th>291</th>\n",
       "      <td>7.148</td>\n",
       "      <td>37.3</td>\n",
       "      <td>30.648185</td>\n",
       "      <td>44.246642</td>\n",
       "    </tr>\n",
       "    <tr>\n",
       "      <th>360</th>\n",
       "      <td>6.398</td>\n",
       "      <td>25.0</td>\n",
       "      <td>23.692923</td>\n",
       "      <td>1.708450</td>\n",
       "    </tr>\n",
       "  </tbody>\n",
       "</table>\n",
       "</div>"
      ],
      "text/plain": [
       "        RM  MEDV  prediction  diff_squared\n",
       "81   6.619  23.9   25.742407      3.394464\n",
       "453  7.393  17.8   32.920237    228.621576\n",
       "311  6.122  22.1   21.133387      0.934341\n",
       "291  7.148  37.3   30.648185     44.246642\n",
       "360  6.398  25.0   23.692923      1.708450"
      ]
     },
     "execution_count": 45,
     "metadata": {},
     "output_type": "execute_result"
    }
   ],
   "source": [
    "test.head()"
   ]
  },
  {
   "cell_type": "code",
   "execution_count": 48,
   "metadata": {},
   "outputs": [
    {
     "data": {
      "text/plain": [
       "42.76818033219253"
      ]
     },
     "execution_count": 48,
     "metadata": {},
     "output_type": "execute_result"
    }
   ],
   "source": [
    "test.diff_squared.sum() / len(test)"
   ]
  },
  {
   "cell_type": "code",
   "execution_count": 71,
   "metadata": {},
   "outputs": [
    {
     "data": {
      "text/plain": [
       "LinearRegression(copy_X=True, fit_intercept=True, n_jobs=None,\n",
       "         normalize=False)"
      ]
     },
     "execution_count": 71,
     "metadata": {},
     "output_type": "execute_result"
    }
   ],
   "source": [
    "rooms_lstat_df = pd.DataFrame(np.c_[boston_df['RM'], boston_df['LSTAT'], boston_df['MEDV']], columns=['RM', 'LSTAT', 'MEDV'])\n",
    "train, test = train_test_split(rooms_lstat_df, test_size = 0.25, random_state=666)\n",
    "lin_model = LinearRegression()\n",
    "lin_model.fit(np.c_[train['RM'], train['LSTAT']], train['MEDV'].to_frame())"
   ]
  },
  {
   "cell_type": "code",
   "execution_count": 73,
   "metadata": {},
   "outputs": [
    {
     "data": {
      "text/html": [
       "<div>\n",
       "<style scoped>\n",
       "    .dataframe tbody tr th:only-of-type {\n",
       "        vertical-align: middle;\n",
       "    }\n",
       "\n",
       "    .dataframe tbody tr th {\n",
       "        vertical-align: top;\n",
       "    }\n",
       "\n",
       "    .dataframe thead th {\n",
       "        text-align: right;\n",
       "    }\n",
       "</style>\n",
       "<table border=\"1\" class=\"dataframe\">\n",
       "  <thead>\n",
       "    <tr style=\"text-align: right;\">\n",
       "      <th></th>\n",
       "      <th>RM</th>\n",
       "      <th>LSTAT</th>\n",
       "      <th>prediction</th>\n",
       "      <th>MEDV</th>\n",
       "      <th>diff_squared</th>\n",
       "    </tr>\n",
       "  </thead>\n",
       "  <tbody>\n",
       "    <tr>\n",
       "      <th>81</th>\n",
       "      <td>6.619</td>\n",
       "      <td>7.22</td>\n",
       "      <td>27.861800</td>\n",
       "      <td>23.9</td>\n",
       "      <td>15.695861</td>\n",
       "    </tr>\n",
       "    <tr>\n",
       "      <th>453</th>\n",
       "      <td>7.393</td>\n",
       "      <td>16.74</td>\n",
       "      <td>26.251842</td>\n",
       "      <td>17.8</td>\n",
       "      <td>71.433626</td>\n",
       "    </tr>\n",
       "    <tr>\n",
       "      <th>311</th>\n",
       "      <td>6.122</td>\n",
       "      <td>5.98</td>\n",
       "      <td>25.901409</td>\n",
       "      <td>22.1</td>\n",
       "      <td>14.450713</td>\n",
       "    </tr>\n",
       "    <tr>\n",
       "      <th>291</th>\n",
       "      <td>7.148</td>\n",
       "      <td>3.56</td>\n",
       "      <td>33.008254</td>\n",
       "      <td>37.3</td>\n",
       "      <td>18.419088</td>\n",
       "    </tr>\n",
       "    <tr>\n",
       "      <th>360</th>\n",
       "      <td>6.398</td>\n",
       "      <td>7.79</td>\n",
       "      <td>26.301045</td>\n",
       "      <td>25.0</td>\n",
       "      <td>1.692718</td>\n",
       "    </tr>\n",
       "  </tbody>\n",
       "</table>\n",
       "</div>"
      ],
      "text/plain": [
       "        RM  LSTAT  prediction  MEDV  diff_squared\n",
       "81   6.619   7.22   27.861800  23.9     15.695861\n",
       "453  7.393  16.74   26.251842  17.8     71.433626\n",
       "311  6.122   5.98   25.901409  22.1     14.450713\n",
       "291  7.148   3.56   33.008254  37.3     18.419088\n",
       "360  6.398   7.79   26.301045  25.0      1.692718"
      ]
     },
     "execution_count": 73,
     "metadata": {},
     "output_type": "execute_result"
    }
   ],
   "source": [
    "# test = test.drop(columns='MEDV')\n",
    "# test['prediction'] =  lin_model.predict(test)\n",
    "# with_preds = test\n",
    "# with_preds['MEDV'] = test['MEDV']\n",
    "with_preds['diff_squared'] = (with_preds['MEDV'] - with_preds['prediction']) ** 2\n",
    "with_preds.head()"
   ]
  },
  {
   "cell_type": "code",
   "execution_count": 74,
   "metadata": {},
   "outputs": [
    {
     "data": {
      "text/plain": [
       "28.06626963161934"
      ]
     },
     "execution_count": 74,
     "metadata": {},
     "output_type": "execute_result"
    }
   ],
   "source": [
    "with_preds.diff_squared.sum() / len(with_preds)"
   ]
  },
  {
   "cell_type": "code",
   "execution_count": 75,
   "metadata": {},
   "outputs": [
    {
     "data": {
      "text/plain": [
       "28.06626963161934"
      ]
     },
     "execution_count": 75,
     "metadata": {},
     "output_type": "execute_result"
    }
   ],
   "source": [
    "mean_squared_error(with_preds.MEDV, with_preds.prediction)"
   ]
  },
  {
   "cell_type": "code",
   "execution_count": 81,
   "metadata": {},
   "outputs": [
    {
     "name": "stdout",
     "output_type": "stream",
     "text": [
      "mse: 26.62571646686159 -- r^2: 0.4956835622307818\n"
     ]
    }
   ],
   "source": [
    "rooms_lstat_pt_df = pd.DataFrame(np.c_[boston_df['RM'], boston_df['LSTAT'], boston_df['PTRATIO']], columns=['RM', 'LSTAT', 'PTRATIO'])\n",
    "Y = boston_df['MEDV']\n",
    "X_train, X_test, Y_train, Y_test = train_test_split(rooms_lstat_pt_df, Y, test_size = 0.25, random_state=666)\n",
    "lin_model = LinearRegression()\n",
    "lin_model.fit(X_train, Y_train)\n",
    "predictions = lin_model.predict(X_test)\n",
    "mse = mean_squared_error(predictions, Y_test)\n",
    "r2 = r2_score(predictions, Y_test)\n",
    "print(\"mse: {} -- r^2: {}\".format(mse, r2))"
   ]
  },
  {
   "cell_type": "code",
   "execution_count": 39,
   "metadata": {},
   "outputs": [
    {
     "data": {
      "image/png": "[encoded data removed]",
      "text/plain": [
       "<Figure size 842.4x595.44 with 1 Axes>"
      ]
     },
     "metadata": {},
     "output_type": "display_data"
    }
   ],
   "source": [
    "dataset = test\n",
    "ax = sns.scatterplot(x=\"RM\", y=\"MEDV\", data=dataset)\n",
    "x = np.linspace(3, 9, 1000)\n",
    "ax.plot(x, 9.274 * x - 35.64, color='red')\n",
    "\n",
    "for row in dataset.itertuples():\n",
    "    ax.plot([row.RM, row.RM], [row.MEDV, 9.274 * row.RM - 35.64])"
   ]
  },
  {
   "cell_type": "code",
   "execution_count": 32,
   "metadata": {
    "slideshow": {
     "slide_type": "skip"
    }
   },
   "outputs": [
    {
     "name": "stderr",
     "output_type": "stream",
     "text": [
      "/Users/mmoran/anaconda/envs/mmc2019/lib/python3.6/site-packages/ipykernel_launcher.py:1: SettingWithCopyWarning: \n",
      "A value is trying to be set on a copy of a slice from a DataFrame.\n",
      "Try using .loc[row_indexer,col_indexer] = value instead\n",
      "\n",
      "See the caveats in the documentation: http://pandas.pydata.org/pandas-docs/stable/indexing.html#indexing-view-versus-copy\n",
      "  \"\"\"Entry point for launching an IPython kernel.\n"
     ]
    }
   ],
   "source": [
    "X_test['MEDV'] = Y_test\n",
    "test = X_test"
   ]
  },
  {
   "cell_type": "code",
   "execution_count": 34,
   "metadata": {
    "slideshow": {
     "slide_type": "skip"
    }
   },
   "outputs": [
    {
     "name": "stderr",
     "output_type": "stream",
     "text": [
      "/Users/mmoran/anaconda/envs/mmc2019/lib/python3.6/site-packages/scipy/stats/stats.py:1713: FutureWarning: Using a non-tuple sequence for multidimensional indexing is deprecated; use `arr[tuple(seq)]` instead of `arr[seq]`. In the future this will be interpreted as an array index, `arr[np.array(seq)]`, which will result either in an error or a different result.\n",
      "  return np.add.reduce(sorted[indexer] * weights, axis=axis) / sumval\n"
     ]
    },
    {
     "data": {
      "text/plain": [
       "<matplotlib.axes._subplots.AxesSubplot at 0x1a3453d0b8>"
      ]
     },
     "execution_count": 34,
     "metadata": {},
     "output_type": "execute_result"
    },
    {
     "data": {
      "image/png": "[encoded data removed]",
      "text/plain": [
       "<Figure size 842.4x595.44 with 1 Axes>"
      ]
     },
     "metadata": {},
     "output_type": "display_data"
    }
   ],
   "source": [
    "sns.regplot(x=\"RM\", y=\"MEDV\", data=test)"
   ]
  },
  {
   "cell_type": "code",
   "execution_count": 75,
   "metadata": {
    "slideshow": {
     "slide_type": "skip"
    }
   },
   "outputs": [
    {
     "name": "stdout",
     "output_type": "stream",
     "text": [
      "The model performance for training set\n",
      "--------------------------------------\n",
      "RMSE is 5.516352882433443\n",
      "R2 score is 0.6500177830034586\n",
      "\n",
      "\n",
      "The model performance for testing set\n",
      "--------------------------------------\n",
      "RMSE is 5.571150318932446\n",
      "R2 score is 0.5820013780757898\n"
     ]
    }
   ],
   "source": [
    "\n",
    "# model evaluation for training set\n",
    "y_train_predict = lin_model.predict(X_train)\n",
    "rmse = (np.sqrt(mean_squared_error(Y_train, y_train_predict)))\n",
    "r2 = r2_score(Y_train, y_train_predict)\n",
    "\n",
    "print(\"The model performance for training set\")\n",
    "print(\"--------------------------------------\")\n",
    "print('RMSE is {}'.format(rmse))\n",
    "print('R2 score is {}'.format(r2))\n",
    "print(\"\\n\")\n",
    "\n",
    "# model evaluation for testing set\n",
    "y_test_predict = lin_model.predict(X_test)\n",
    "rmse = (np.sqrt(mean_squared_error(Y_test, y_test_predict)))\n",
    "r2 = r2_score(Y_test, y_test_predict)\n",
    "\n",
    "print(\"The model performance for testing set\")\n",
    "print(\"--------------------------------------\")\n",
    "print('RMSE is {}'.format(rmse))\n",
    "print('R2 score is {}'.format(r2))"
   ]
  },
  {
   "cell_type": "code",
   "execution_count": 68,
   "metadata": {
    "slideshow": {
     "slide_type": "skip"
    }
   },
   "outputs": [],
   "source": [
    "preds = lin_model.predict(X_test)"
   ]
  },
  {
   "cell_type": "code",
   "execution_count": 5,
   "metadata": {
    "slideshow": {
     "slide_type": "skip"
    }
   },
   "outputs": [],
   "source": [
    "numpy_vals = boston_df.values"
   ]
  },
  {
   "cell_type": "code",
   "execution_count": 19,
   "metadata": {
    "slideshow": {
     "slide_type": "skip"
    }
   },
   "outputs": [],
   "source": [
    "X = numpy_vals[:,0:13]\n",
    "Y = numpy_vals[:,13]\n",
    "X_train, X_test, Y_train, Y_test = train_test_split(X, Y, test_size = 0.2, random_state=666)"
   ]
  },
  {
   "cell_type": "code",
   "execution_count": 20,
   "metadata": {
    "slideshow": {
     "slide_type": "skip"
    }
   },
   "outputs": [],
   "source": [
    "model = Sequential()\n",
    "model.add(Dense(13, input_dim=13, kernel_initializer='normal', activation='relu'))\n",
    "model.add(Dense(1, kernel_initializer='normal'))\n",
    "model.compile(loss='mean_squared_error', optimizer='adam')"
   ]
  },
  {
   "cell_type": "code",
   "execution_count": 24,
   "metadata": {
    "slideshow": {
     "slide_type": "skip"
    }
   },
   "outputs": [
    {
     "name": "stdout",
     "output_type": "stream",
     "text": [
      "Train on 323 samples, validate on 81 samples\n",
      "Epoch 1/100\n",
      "323/323 [==============================] - 0s 766us/step - loss: 13.1700 - val_loss: 14.5666\n",
      "Epoch 2/100\n",
      "323/323 [==============================] - 0s 639us/step - loss: 12.9502 - val_loss: 14.7375\n",
      "Epoch 3/100\n",
      "323/323 [==============================] - 0s 597us/step - loss: 12.5215 - val_loss: 14.1391\n",
      "Epoch 4/100\n",
      "323/323 [==============================] - 0s 638us/step - loss: 12.3891 - val_loss: 14.1524\n",
      "Epoch 5/100\n",
      "323/323 [==============================] - 0s 698us/step - loss: 12.4819 - val_loss: 14.4678\n",
      "Epoch 6/100\n",
      "323/323 [==============================] - 0s 798us/step - loss: 12.4983 - val_loss: 16.3261\n",
      "Epoch 7/100\n",
      "323/323 [==============================] - 0s 616us/step - loss: 13.1802 - val_loss: 14.3676\n",
      "Epoch 8/100\n",
      "323/323 [==============================] - 0s 613us/step - loss: 12.2310 - val_loss: 13.4159\n",
      "Epoch 9/100\n",
      "323/323 [==============================] - 0s 622us/step - loss: 12.7508 - val_loss: 14.6194\n",
      "Epoch 10/100\n",
      "323/323 [==============================] - 0s 697us/step - loss: 12.5095 - val_loss: 14.3454\n",
      "Epoch 11/100\n",
      "323/323 [==============================] - 0s 649us/step - loss: 12.4224 - val_loss: 13.8783\n",
      "Epoch 12/100\n",
      "323/323 [==============================] - 0s 653us/step - loss: 12.3138 - val_loss: 13.6050\n",
      "Epoch 13/100\n",
      "323/323 [==============================] - 0s 647us/step - loss: 12.2932 - val_loss: 14.6484\n",
      "Epoch 14/100\n",
      "323/323 [==============================] - 0s 638us/step - loss: 12.7543 - val_loss: 14.6557\n",
      "Epoch 15/100\n",
      "323/323 [==============================] - 0s 609us/step - loss: 12.4680 - val_loss: 13.7300\n",
      "Epoch 16/100\n",
      "323/323 [==============================] - 0s 614us/step - loss: 12.9727 - val_loss: 14.3747\n",
      "Epoch 17/100\n",
      "323/323 [==============================] - 0s 642us/step - loss: 12.7504 - val_loss: 13.9632\n",
      "Epoch 18/100\n",
      "323/323 [==============================] - 0s 671us/step - loss: 12.5795 - val_loss: 19.7399\n",
      "Epoch 19/100\n",
      "323/323 [==============================] - 0s 662us/step - loss: 12.7697 - val_loss: 15.9457\n",
      "Epoch 20/100\n",
      "323/323 [==============================] - 0s 645us/step - loss: 12.4241 - val_loss: 13.6090\n",
      "Epoch 21/100\n",
      "323/323 [==============================] - 0s 618us/step - loss: 12.4564 - val_loss: 15.1887\n",
      "Epoch 22/100\n",
      "323/323 [==============================] - 0s 738us/step - loss: 12.9085 - val_loss: 16.0663\n",
      "Epoch 23/100\n",
      "323/323 [==============================] - 0s 788us/step - loss: 12.8610 - val_loss: 15.8516\n",
      "Epoch 24/100\n",
      "323/323 [==============================] - 0s 672us/step - loss: 13.9292 - val_loss: 16.5955\n",
      "Epoch 25/100\n",
      "323/323 [==============================] - 0s 669us/step - loss: 12.8318 - val_loss: 13.9385\n",
      "Epoch 26/100\n",
      "323/323 [==============================] - 0s 666us/step - loss: 12.1162 - val_loss: 15.7101\n",
      "Epoch 27/100\n",
      "323/323 [==============================] - 0s 685us/step - loss: 12.5733 - val_loss: 15.1573\n",
      "Epoch 28/100\n",
      "323/323 [==============================] - 0s 825us/step - loss: 13.1395 - val_loss: 14.1144\n",
      "Epoch 29/100\n",
      "323/323 [==============================] - 0s 619us/step - loss: 12.6764 - val_loss: 15.5718\n",
      "Epoch 30/100\n",
      "323/323 [==============================] - 0s 768us/step - loss: 13.0694 - val_loss: 14.4806\n",
      "Epoch 31/100\n",
      "323/323 [==============================] - 0s 711us/step - loss: 12.5606 - val_loss: 13.9071\n",
      "Epoch 32/100\n",
      "323/323 [==============================] - 0s 693us/step - loss: 12.7154 - val_loss: 13.6932\n",
      "Epoch 33/100\n",
      "323/323 [==============================] - 0s 665us/step - loss: 12.7915 - val_loss: 19.1622\n",
      "Epoch 34/100\n",
      "323/323 [==============================] - 0s 643us/step - loss: 12.5995 - val_loss: 13.6185\n",
      "Epoch 35/100\n",
      "323/323 [==============================] - 0s 677us/step - loss: 13.9277 - val_loss: 15.6540\n",
      "Epoch 36/100\n",
      "323/323 [==============================] - 0s 608us/step - loss: 12.4924 - val_loss: 13.7226\n",
      "Epoch 37/100\n",
      "323/323 [==============================] - 0s 647us/step - loss: 12.8048 - val_loss: 15.2179\n",
      "Epoch 38/100\n",
      "323/323 [==============================] - 0s 682us/step - loss: 12.7188 - val_loss: 14.3436\n",
      "Epoch 39/100\n",
      "323/323 [==============================] - 0s 606us/step - loss: 12.3986 - val_loss: 13.7697\n",
      "Epoch 40/100\n",
      "323/323 [==============================] - 0s 685us/step - loss: 13.5982 - val_loss: 18.2437\n",
      "Epoch 41/100\n",
      "323/323 [==============================] - 0s 681us/step - loss: 12.7573 - val_loss: 14.5697\n",
      "Epoch 42/100\n",
      "323/323 [==============================] - 0s 654us/step - loss: 12.5646 - val_loss: 15.0715\n",
      "Epoch 43/100\n",
      "323/323 [==============================] - 0s 652us/step - loss: 13.1421 - val_loss: 15.3219\n",
      "Epoch 44/100\n",
      "323/323 [==============================] - 0s 620us/step - loss: 14.5533 - val_loss: 17.4072\n",
      "Epoch 45/100\n",
      "323/323 [==============================] - 0s 691us/step - loss: 12.5131 - val_loss: 14.9682\n",
      "Epoch 46/100\n",
      "323/323 [==============================] - 0s 631us/step - loss: 13.0211 - val_loss: 14.9642\n",
      "Epoch 47/100\n",
      "323/323 [==============================] - 0s 638us/step - loss: 12.7739 - val_loss: 14.6510\n",
      "Epoch 48/100\n",
      "323/323 [==============================] - 0s 654us/step - loss: 12.4004 - val_loss: 14.7235\n",
      "Epoch 49/100\n",
      "323/323 [==============================] - 0s 634us/step - loss: 12.3198 - val_loss: 15.6815\n",
      "Epoch 50/100\n",
      "323/323 [==============================] - 0s 651us/step - loss: 12.3058 - val_loss: 14.9004\n",
      "Epoch 51/100\n",
      "323/323 [==============================] - 0s 630us/step - loss: 12.7477 - val_loss: 14.1341\n",
      "Epoch 52/100\n",
      "323/323 [==============================] - 0s 684us/step - loss: 12.8767 - val_loss: 14.0523\n",
      "Epoch 53/100\n",
      "323/323 [==============================] - 0s 796us/step - loss: 12.5854 - val_loss: 13.8561\n",
      "Epoch 54/100\n",
      "323/323 [==============================] - 0s 695us/step - loss: 12.9771 - val_loss: 14.6068\n",
      "Epoch 55/100\n",
      "323/323 [==============================] - 0s 660us/step - loss: 13.2890 - val_loss: 14.4653\n",
      "Epoch 56/100\n",
      "323/323 [==============================] - 0s 693us/step - loss: 12.4098 - val_loss: 15.0776\n",
      "Epoch 57/100\n",
      "323/323 [==============================] - 0s 672us/step - loss: 13.7021 - val_loss: 14.1440\n",
      "Epoch 58/100\n",
      "323/323 [==============================] - 0s 685us/step - loss: 12.9839 - val_loss: 17.4217\n",
      "Epoch 59/100\n",
      "323/323 [==============================] - 0s 664us/step - loss: 14.0610 - val_loss: 13.8113\n",
      "Epoch 60/100\n",
      "323/323 [==============================] - 0s 734us/step - loss: 12.4618 - val_loss: 16.4106\n",
      "Epoch 61/100\n",
      "323/323 [==============================] - 0s 706us/step - loss: 12.6029 - val_loss: 13.6577\n",
      "Epoch 62/100\n",
      "323/323 [==============================] - 0s 663us/step - loss: 13.4275 - val_loss: 14.1525\n",
      "Epoch 63/100\n",
      "323/323 [==============================] - 0s 696us/step - loss: 13.0965 - val_loss: 14.3559\n",
      "Epoch 64/100\n",
      "323/323 [==============================] - 0s 663us/step - loss: 12.5844 - val_loss: 14.9118\n",
      "Epoch 65/100\n",
      "323/323 [==============================] - 0s 661us/step - loss: 13.1562 - val_loss: 17.9443\n",
      "Epoch 66/100\n",
      "323/323 [==============================] - 0s 682us/step - loss: 13.3751 - val_loss: 18.7713\n",
      "Epoch 67/100\n",
      "323/323 [==============================] - 0s 730us/step - loss: 12.9958 - val_loss: 14.5545\n",
      "Epoch 68/100\n",
      "323/323 [==============================] - 0s 779us/step - loss: 12.7504 - val_loss: 14.8745\n",
      "Epoch 69/100\n",
      "323/323 [==============================] - 0s 783us/step - loss: 12.7217 - val_loss: 13.9248\n",
      "Epoch 70/100\n",
      "323/323 [==============================] - 0s 778us/step - loss: 12.1823 - val_loss: 14.5475\n",
      "Epoch 71/100\n",
      "323/323 [==============================] - 0s 780us/step - loss: 12.7140 - val_loss: 14.7171\n",
      "Epoch 72/100\n",
      "323/323 [==============================] - 0s 746us/step - loss: 11.8968 - val_loss: 14.2541\n",
      "Epoch 73/100\n",
      "323/323 [==============================] - 0s 708us/step - loss: 13.2402 - val_loss: 17.7131\n",
      "Epoch 74/100\n",
      "323/323 [==============================] - 0s 648us/step - loss: 13.7972 - val_loss: 15.3526\n",
      "Epoch 75/100\n",
      "323/323 [==============================] - 0s 707us/step - loss: 13.6342 - val_loss: 16.3305\n",
      "Epoch 76/100\n",
      "323/323 [==============================] - 0s 731us/step - loss: 12.9470 - val_loss: 14.9925\n",
      "Epoch 77/100\n",
      "323/323 [==============================] - 0s 693us/step - loss: 12.8780 - val_loss: 14.3223\n"
     ]
    },
    {
     "name": "stdout",
     "output_type": "stream",
     "text": [
      "Epoch 78/100\n",
      "323/323 [==============================] - 0s 631us/step - loss: 12.7725 - val_loss: 14.5009\n",
      "Epoch 79/100\n",
      "323/323 [==============================] - 0s 596us/step - loss: 12.6153 - val_loss: 15.4116\n",
      "Epoch 80/100\n",
      "323/323 [==============================] - 0s 604us/step - loss: 13.0986 - val_loss: 13.8880\n",
      "Epoch 81/100\n",
      "323/323 [==============================] - 0s 589us/step - loss: 13.7617 - val_loss: 15.8201\n",
      "Epoch 82/100\n",
      "323/323 [==============================] - 0s 628us/step - loss: 12.9504 - val_loss: 15.1033\n",
      "Epoch 83/100\n",
      "323/323 [==============================] - 0s 596us/step - loss: 13.0860 - val_loss: 18.9663\n",
      "Epoch 84/100\n",
      "323/323 [==============================] - 0s 612us/step - loss: 13.2484 - val_loss: 15.5310\n",
      "Epoch 85/100\n",
      "323/323 [==============================] - 0s 631us/step - loss: 12.8176 - val_loss: 15.5995\n",
      "Epoch 86/100\n",
      "323/323 [==============================] - 0s 610us/step - loss: 12.9041 - val_loss: 17.3973\n",
      "Epoch 87/100\n",
      "323/323 [==============================] - 0s 658us/step - loss: 13.1087 - val_loss: 14.4555\n",
      "Epoch 88/100\n",
      "323/323 [==============================] - 0s 584us/step - loss: 12.7051 - val_loss: 14.5753\n",
      "Epoch 89/100\n",
      "323/323 [==============================] - 0s 565us/step - loss: 13.1222 - val_loss: 14.8492\n",
      "Epoch 90/100\n",
      "323/323 [==============================] - 0s 652us/step - loss: 12.9809 - val_loss: 15.7806\n",
      "Epoch 91/100\n",
      "323/323 [==============================] - 0s 577us/step - loss: 13.7353 - val_loss: 14.6757\n",
      "Epoch 92/100\n",
      "323/323 [==============================] - 0s 588us/step - loss: 11.8387 - val_loss: 14.6140\n",
      "Epoch 93/100\n",
      "323/323 [==============================] - 0s 598us/step - loss: 13.6390 - val_loss: 14.3726\n",
      "Epoch 94/100\n",
      "323/323 [==============================] - 0s 598us/step - loss: 12.7227 - val_loss: 14.3777\n",
      "Epoch 95/100\n",
      "323/323 [==============================] - 0s 614us/step - loss: 12.1692 - val_loss: 16.6237\n",
      "Epoch 96/100\n",
      "323/323 [==============================] - 0s 670us/step - loss: 12.2056 - val_loss: 13.2926\n",
      "Epoch 97/100\n",
      "323/323 [==============================] - 0s 574us/step - loss: 12.8831 - val_loss: 19.9556\n",
      "Epoch 98/100\n",
      "323/323 [==============================] - 0s 618us/step - loss: 13.5265 - val_loss: 14.3173\n",
      "Epoch 99/100\n",
      "323/323 [==============================] - 0s 598us/step - loss: 13.0761 - val_loss: 15.1021\n",
      "Epoch 100/100\n",
      "323/323 [==============================] - 0s 624us/step - loss: 12.7243 - val_loss: 13.5148\n"
     ]
    },
    {
     "data": {
      "text/plain": [
       "<keras.callbacks.History at 0x1a45d01b70>"
      ]
     },
     "execution_count": 24,
     "metadata": {},
     "output_type": "execute_result"
    }
   ],
   "source": [
    "model.fit(X_train, Y_train, batch_size=5, epochs=100, validation_split=0.20)"
   ]
  },
  {
   "cell_type": "code",
   "execution_count": 7,
   "metadata": {
    "slideshow": {
     "slide_type": "skip"
    }
   },
   "outputs": [],
   "source": [
    "def simple_model():\n",
    "    model = Sequential()\n",
    "    model.add(Dense(13, input_dim=13, kernel_initializer='normal', activation='relu'))\n",
    "    model.add(Dense(1, kernel_initializer='normal'))\n",
    "    model.compile(loss='mean_squared_error', optimizer='adam')\n",
    "    return model"
   ]
  },
  {
   "cell_type": "code",
   "execution_count": 15,
   "metadata": {
    "slideshow": {
     "slide_type": "skip"
    }
   },
   "outputs": [],
   "source": [
    "seed = 666\n",
    "np.random.seed(seed)\n",
    "estimator = KerasRegressor(build_fn=simple_model, epochs=100, batch_size=5, verbose=0)"
   ]
  },
  {
   "cell_type": "code",
   "execution_count": 14,
   "metadata": {
    "slideshow": {
     "slide_type": "skip"
    }
   },
   "outputs": [
    {
     "name": "stdout",
     "output_type": "stream",
     "text": [
      "Results: -33.05 (23.22) MSE\n"
     ]
    }
   ],
   "source": [
    "kfold = KFold(n_splits=10, random_state=seed)\n",
    "results = cross_val_score(estimator, X, Y, cv=kfold)\n",
    "print(\"Results: %.2f (%.2f) MSE\" % (results.mean(), results.std()))"
   ]
  },
  {
   "cell_type": "code",
   "execution_count": 17,
   "metadata": {
    "slideshow": {
     "slide_type": "skip"
    }
   },
   "outputs": [
    {
     "name": "stdout",
     "output_type": "stream",
     "text": [
      "Standardized: -28.40 (27.97) MSE\n"
     ]
    }
   ],
   "source": [
    "np.random.seed(seed)\n",
    "estimators = []\n",
    "estimators.append(('standardize', StandardScaler()))\n",
    "estimators.append(('mlp', KerasRegressor(build_fn=simple_model, epochs=50, batch_size=5, verbose=0)))\n",
    "pipeline = Pipeline(estimators)\n",
    "kfold = KFold(n_splits=10, random_state=seed)\n",
    "results = cross_val_score(pipeline, X, Y, cv=kfold)\n",
    "print(\"Standardized: %.2f (%.2f) MSE\" % (results.mean(), results.std()))"
   ]
  },
  {
   "cell_type": "code",
   "execution_count": 5,
   "metadata": {
    "slideshow": {
     "slide_type": "skip"
    }
   },
   "outputs": [],
   "source": [
    "(X_train, Y_train), (X_test, Y_test) = mnist.load_data()"
   ]
  },
  {
   "cell_type": "code",
   "execution_count": 7,
   "metadata": {
    "slideshow": {
     "slide_type": "skip"
    }
   },
   "outputs": [
    {
     "data": {
      "text/plain": [
       "5"
      ]
     },
     "execution_count": 7,
     "metadata": {},
     "output_type": "execute_result"
    }
   ],
   "source": [
    "Y_train[0]"
   ]
  },
  {
   "cell_type": "code",
   "execution_count": 2,
   "metadata": {
    "slideshow": {
     "slide_type": "skip"
    }
   },
   "outputs": [],
   "source": [
    "admission_dataframe = pd.read_excel('/Users/mmoran/Downloads/IPEDS_data.xlsx')"
   ]
  },
  {
   "cell_type": "code",
   "execution_count": 3,
   "metadata": {
    "slideshow": {
     "slide_type": "skip"
    }
   },
   "outputs": [
    {
     "data": {
      "text/html": [
       "<div>\n",
       "<style scoped>\n",
       "    .dataframe tbody tr th:only-of-type {\n",
       "        vertical-align: middle;\n",
       "    }\n",
       "\n",
       "    .dataframe tbody tr th {\n",
       "        vertical-align: top;\n",
       "    }\n",
       "\n",
       "    .dataframe thead th {\n",
       "        text-align: right;\n",
       "    }\n",
       "</style>\n",
       "<table border=\"1\" class=\"dataframe\">\n",
       "  <thead>\n",
       "    <tr style=\"text-align: right;\">\n",
       "      <th></th>\n",
       "      <th>ID number</th>\n",
       "      <th>Name</th>\n",
       "      <th>year</th>\n",
       "      <th>ZIP code</th>\n",
       "      <th>Highest degree offered</th>\n",
       "      <th>County name</th>\n",
       "      <th>Longitude location of institution</th>\n",
       "      <th>Latitude location of institution</th>\n",
       "      <th>Religious affiliation</th>\n",
       "      <th>Offers Less than one year certificate</th>\n",
       "      <th>...</th>\n",
       "      <th>Percent of freshmen  receiving federal grant aid</th>\n",
       "      <th>Percent of freshmen receiving Pell grants</th>\n",
       "      <th>Percent of freshmen receiving other federal grant aid</th>\n",
       "      <th>Percent of freshmen receiving state/local grant aid</th>\n",
       "      <th>Percent of freshmen receiving institutional grant aid</th>\n",
       "      <th>Percent of freshmen receiving student loan aid</th>\n",
       "      <th>Percent of freshmen receiving federal student loans</th>\n",
       "      <th>Percent of freshmen receiving other loan aid</th>\n",
       "      <th>Endowment assets (year end) per FTE enrollment (GASB)</th>\n",
       "      <th>Endowment assets (year end) per FTE enrollment (FASB)</th>\n",
       "    </tr>\n",
       "  </thead>\n",
       "  <tbody>\n",
       "    <tr>\n",
       "      <th>0</th>\n",
       "      <td>100654</td>\n",
       "      <td>Alabama A &amp; M University</td>\n",
       "      <td>2013</td>\n",
       "      <td>35762</td>\n",
       "      <td>Doctor's degree - research/scholarship</td>\n",
       "      <td>Madison County</td>\n",
       "      <td>-86.568502</td>\n",
       "      <td>34.783368</td>\n",
       "      <td>Not applicable</td>\n",
       "      <td>Implied no</td>\n",
       "      <td>...</td>\n",
       "      <td>81.0</td>\n",
       "      <td>81.0</td>\n",
       "      <td>7.0</td>\n",
       "      <td>1.0</td>\n",
       "      <td>32.0</td>\n",
       "      <td>89.0</td>\n",
       "      <td>89.0</td>\n",
       "      <td>1.0</td>\n",
       "      <td>NaN</td>\n",
       "      <td>NaN</td>\n",
       "    </tr>\n",
       "    <tr>\n",
       "      <th>1</th>\n",
       "      <td>100663</td>\n",
       "      <td>University of Alabama at Birmingham</td>\n",
       "      <td>2013</td>\n",
       "      <td>35294-0110</td>\n",
       "      <td>Doctor's degree - research/scholarship and pro...</td>\n",
       "      <td>Jefferson County</td>\n",
       "      <td>-86.809170</td>\n",
       "      <td>33.502230</td>\n",
       "      <td>Not applicable</td>\n",
       "      <td>Implied no</td>\n",
       "      <td>...</td>\n",
       "      <td>36.0</td>\n",
       "      <td>36.0</td>\n",
       "      <td>10.0</td>\n",
       "      <td>0.0</td>\n",
       "      <td>60.0</td>\n",
       "      <td>56.0</td>\n",
       "      <td>55.0</td>\n",
       "      <td>5.0</td>\n",
       "      <td>24136.0</td>\n",
       "      <td>NaN</td>\n",
       "    </tr>\n",
       "    <tr>\n",
       "      <th>2</th>\n",
       "      <td>100690</td>\n",
       "      <td>Amridge University</td>\n",
       "      <td>2013</td>\n",
       "      <td>36117-3553</td>\n",
       "      <td>Doctor's degree - research/scholarship and pro...</td>\n",
       "      <td>Montgomery County</td>\n",
       "      <td>-86.174010</td>\n",
       "      <td>32.362609</td>\n",
       "      <td>Churches of Christ</td>\n",
       "      <td>Implied no</td>\n",
       "      <td>...</td>\n",
       "      <td>90.0</td>\n",
       "      <td>90.0</td>\n",
       "      <td>0.0</td>\n",
       "      <td>40.0</td>\n",
       "      <td>90.0</td>\n",
       "      <td>100.0</td>\n",
       "      <td>100.0</td>\n",
       "      <td>0.0</td>\n",
       "      <td>NaN</td>\n",
       "      <td>302.0</td>\n",
       "    </tr>\n",
       "    <tr>\n",
       "      <th>3</th>\n",
       "      <td>100706</td>\n",
       "      <td>University of Alabama in Huntsville</td>\n",
       "      <td>2013</td>\n",
       "      <td>35899</td>\n",
       "      <td>Doctor's degree - research/scholarship and pro...</td>\n",
       "      <td>Madison County</td>\n",
       "      <td>-86.638420</td>\n",
       "      <td>34.722818</td>\n",
       "      <td>Not applicable</td>\n",
       "      <td>Yes</td>\n",
       "      <td>...</td>\n",
       "      <td>31.0</td>\n",
       "      <td>31.0</td>\n",
       "      <td>4.0</td>\n",
       "      <td>1.0</td>\n",
       "      <td>63.0</td>\n",
       "      <td>46.0</td>\n",
       "      <td>46.0</td>\n",
       "      <td>3.0</td>\n",
       "      <td>11502.0</td>\n",
       "      <td>NaN</td>\n",
       "    </tr>\n",
       "    <tr>\n",
       "      <th>4</th>\n",
       "      <td>100724</td>\n",
       "      <td>Alabama State University</td>\n",
       "      <td>2013</td>\n",
       "      <td>36104-0271</td>\n",
       "      <td>Doctor's degree - research/scholarship and pro...</td>\n",
       "      <td>Montgomery County</td>\n",
       "      <td>-86.295677</td>\n",
       "      <td>32.364317</td>\n",
       "      <td>Not applicable</td>\n",
       "      <td>Implied no</td>\n",
       "      <td>...</td>\n",
       "      <td>76.0</td>\n",
       "      <td>76.0</td>\n",
       "      <td>13.0</td>\n",
       "      <td>11.0</td>\n",
       "      <td>34.0</td>\n",
       "      <td>81.0</td>\n",
       "      <td>81.0</td>\n",
       "      <td>0.0</td>\n",
       "      <td>13202.0</td>\n",
       "      <td>NaN</td>\n",
       "    </tr>\n",
       "  </tbody>\n",
       "</table>\n",
       "<p>5 rows × 145 columns</p>\n",
       "</div>"
      ],
      "text/plain": [
       "   ID number                                 Name  year    ZIP code  \\\n",
       "0     100654             Alabama A & M University  2013       35762   \n",
       "1     100663  University of Alabama at Birmingham  2013  35294-0110   \n",
       "2     100690                   Amridge University  2013  36117-3553   \n",
       "3     100706  University of Alabama in Huntsville  2013       35899   \n",
       "4     100724             Alabama State University  2013  36104-0271   \n",
       "\n",
       "                              Highest degree offered        County name  \\\n",
       "0             Doctor's degree - research/scholarship     Madison County   \n",
       "1  Doctor's degree - research/scholarship and pro...   Jefferson County   \n",
       "2  Doctor's degree - research/scholarship and pro...  Montgomery County   \n",
       "3  Doctor's degree - research/scholarship and pro...     Madison County   \n",
       "4  Doctor's degree - research/scholarship and pro...  Montgomery County   \n",
       "\n",
       "   Longitude location of institution  Latitude location of institution  \\\n",
       "0                         -86.568502                         34.783368   \n",
       "1                         -86.809170                         33.502230   \n",
       "2                         -86.174010                         32.362609   \n",
       "3                         -86.638420                         34.722818   \n",
       "4                         -86.295677                         32.364317   \n",
       "\n",
       "  Religious affiliation Offers Less than one year certificate  \\\n",
       "0        Not applicable                            Implied no   \n",
       "1        Not applicable                            Implied no   \n",
       "2    Churches of Christ                            Implied no   \n",
       "3        Not applicable                                   Yes   \n",
       "4        Not applicable                            Implied no   \n",
       "\n",
       "                           ...                           \\\n",
       "0                          ...                            \n",
       "1                          ...                            \n",
       "2                          ...                            \n",
       "3                          ...                            \n",
       "4                          ...                            \n",
       "\n",
       "  Percent of freshmen  receiving federal grant aid  \\\n",
       "0                                             81.0   \n",
       "1                                             36.0   \n",
       "2                                             90.0   \n",
       "3                                             31.0   \n",
       "4                                             76.0   \n",
       "\n",
       "  Percent of freshmen receiving Pell grants  \\\n",
       "0                                      81.0   \n",
       "1                                      36.0   \n",
       "2                                      90.0   \n",
       "3                                      31.0   \n",
       "4                                      76.0   \n",
       "\n",
       "  Percent of freshmen receiving other federal grant aid  \\\n",
       "0                                                7.0      \n",
       "1                                               10.0      \n",
       "2                                                0.0      \n",
       "3                                                4.0      \n",
       "4                                               13.0      \n",
       "\n",
       "  Percent of freshmen receiving state/local grant aid  \\\n",
       "0                                                1.0    \n",
       "1                                                0.0    \n",
       "2                                               40.0    \n",
       "3                                                1.0    \n",
       "4                                               11.0    \n",
       "\n",
       "  Percent of freshmen receiving institutional grant aid  \\\n",
       "0                                               32.0      \n",
       "1                                               60.0      \n",
       "2                                               90.0      \n",
       "3                                               63.0      \n",
       "4                                               34.0      \n",
       "\n",
       "  Percent of freshmen receiving student loan aid  \\\n",
       "0                                           89.0   \n",
       "1                                           56.0   \n",
       "2                                          100.0   \n",
       "3                                           46.0   \n",
       "4                                           81.0   \n",
       "\n",
       "  Percent of freshmen receiving federal student loans  \\\n",
       "0                                               89.0    \n",
       "1                                               55.0    \n",
       "2                                              100.0    \n",
       "3                                               46.0    \n",
       "4                                               81.0    \n",
       "\n",
       "  Percent of freshmen receiving other loan aid  \\\n",
       "0                                          1.0   \n",
       "1                                          5.0   \n",
       "2                                          0.0   \n",
       "3                                          3.0   \n",
       "4                                          0.0   \n",
       "\n",
       "  Endowment assets (year end) per FTE enrollment (GASB)  \\\n",
       "0                                                NaN      \n",
       "1                                            24136.0      \n",
       "2                                                NaN      \n",
       "3                                            11502.0      \n",
       "4                                            13202.0      \n",
       "\n",
       "  Endowment assets (year end) per FTE enrollment (FASB)  \n",
       "0                                                NaN     \n",
       "1                                                NaN     \n",
       "2                                              302.0     \n",
       "3                                                NaN     \n",
       "4                                                NaN     \n",
       "\n",
       "[5 rows x 145 columns]"
      ]
     },
     "execution_count": 3,
     "metadata": {},
     "output_type": "execute_result"
    }
   ],
   "source": [
    "admission_dataframe.head()"
   ]
  },
  {
   "cell_type": "code",
   "execution_count": 4,
   "metadata": {
    "slideshow": {
     "slide_type": "skip"
    }
   },
   "outputs": [
    {
     "data": {
      "text/plain": [
       "array(['ID number', 'Name', 'year', 'ZIP code', 'Highest degree offered',\n",
       "       'County name', 'Longitude location of institution',\n",
       "       'Latitude location of institution', 'Religious affiliation',\n",
       "       'Offers Less than one year certificate',\n",
       "       'Offers One but less than two years certificate',\n",
       "       \"Offers Associate's degree\",\n",
       "       'Offers Two but less than 4 years certificate',\n",
       "       \"Offers Bachelor's degree\", 'Offers Postbaccalaureate certificate',\n",
       "       \"Offers Master's degree\", \"Offers Post-master's certificate\",\n",
       "       \"Offers Doctor's degree - research/scholarship\",\n",
       "       \"Offers Doctor's degree - professional practice\",\n",
       "       \"Offers Doctor's degree - other\", 'Offers Other degree',\n",
       "       'Applicants total', 'Admissions total', 'Enrolled total',\n",
       "       'Percent of freshmen submitting SAT scores',\n",
       "       'Percent of freshmen submitting ACT scores',\n",
       "       'SAT Critical Reading 25th percentile score',\n",
       "       'SAT Critical Reading 75th percentile score',\n",
       "       'SAT Math 25th percentile score', 'SAT Math 75th percentile score',\n",
       "       'SAT Writing 25th percentile score',\n",
       "       'SAT Writing 75th percentile score',\n",
       "       'ACT Composite 25th percentile score',\n",
       "       'ACT Composite 75th percentile score',\n",
       "       'Estimated enrollment, total', 'Estimated enrollment, full time',\n",
       "       'Estimated enrollment, part time',\n",
       "       'Estimated undergraduate enrollment, total',\n",
       "       'Estimated undergraduate enrollment, full time',\n",
       "       'Estimated undergraduate enrollment, part time',\n",
       "       'Estimated freshman undergraduate enrollment, total',\n",
       "       'Estimated freshman enrollment, full time',\n",
       "       'Estimated freshman enrollment, part time',\n",
       "       'Estimated graduate enrollment, total',\n",
       "       'Estimated graduate enrollment, full time',\n",
       "       'Estimated graduate enrollment, part time',\n",
       "       \"Associate's degrees awarded\", \"Bachelor's degrees awarded\",\n",
       "       \"Master's degrees awarded\",\n",
       "       \"Doctor's degrese - research/scholarship awarded\",\n",
       "       \"Doctor's degrees - professional practice awarded\",\n",
       "       \"Doctor's degrees - other awarded\",\n",
       "       'Certificates of less than 1-year awarded',\n",
       "       'Certificates of 1 but less than 2-years awarded',\n",
       "       'Certificates of 2 but less than 4-years awarded',\n",
       "       'Postbaccalaureate certificates awarded',\n",
       "       \"Post-master's certificates awarded\",\n",
       "       \"Number of students receiving an Associate's degree\",\n",
       "       \"Number of students receiving a Bachelor's degree\",\n",
       "       \"Number of students receiving a Master's degree\",\n",
       "       \"Number of students receiving a Doctor's degree\",\n",
       "       'Number of students receiving a certificate of less than 1-year',\n",
       "       'Number of students receiving a certificate of 1 but less than 4-years',\n",
       "       \"Number of students receiving a Postbaccalaureate or Post-master's certificate\",\n",
       "       'Percent admitted - total', 'Admissions yield - total',\n",
       "       'Tuition and fees, 2010-11', 'Tuition and fees, 2011-12',\n",
       "       'Tuition and fees, 2012-13', 'Tuition and fees, 2013-14',\n",
       "       'Total price for in-state students living on campus 2013-14',\n",
       "       'Total price for out-of-state students living on campus 2013-14',\n",
       "       'State abbreviation', 'FIPS state code', 'Geographic region',\n",
       "       'Sector of institution', 'Level of institution',\n",
       "       'Control of institution',\n",
       "       'Historically Black College or University', 'Tribal college',\n",
       "       'Degree of urbanization (Urban-centric locale)',\n",
       "       'Carnegie Classification 2010: Basic', 'Total  enrollment',\n",
       "       'Full-time enrollment', 'Part-time enrollment',\n",
       "       'Undergraduate enrollment', 'Graduate enrollment',\n",
       "       'Full-time undergraduate enrollment',\n",
       "       'Part-time undergraduate enrollment',\n",
       "       'Percent of total enrollment that are American Indian or Alaska Native',\n",
       "       'Percent of total enrollment that are Asian',\n",
       "       'Percent of total enrollment that are Black or African American',\n",
       "       'Percent of total enrollment that are Hispanic/Latino',\n",
       "       'Percent of total enrollment that are Native Hawaiian or Other Pacific Islander',\n",
       "       'Percent of total enrollment that are White',\n",
       "       'Percent of total enrollment that are two or more races',\n",
       "       'Percent of total enrollment that are Race/ethnicity unknown',\n",
       "       'Percent of total enrollment that are Nonresident Alien',\n",
       "       'Percent of total enrollment that are Asian/Native Hawaiian/Pacific Islander',\n",
       "       'Percent of total enrollment that are women',\n",
       "       'Percent of undergraduate enrollment that are American Indian or Alaska Native',\n",
       "       'Percent of undergraduate enrollment that are Asian',\n",
       "       'Percent of undergraduate enrollment that are Black or African American',\n",
       "       'Percent of undergraduate enrollment that are Hispanic/Latino',\n",
       "       'Percent of undergraduate enrollment that are Native Hawaiian or Other Pacific Islander',\n",
       "       'Percent of undergraduate enrollment that are White',\n",
       "       'Percent of undergraduate enrollment that are two or more races',\n",
       "       'Percent of undergraduate enrollment that are Race/ethnicity unknown',\n",
       "       'Percent of undergraduate enrollment that are Nonresident Alien',\n",
       "       'Percent of undergraduate enrollment that are Asian/Native Hawaiian/Pacific Islander',\n",
       "       'Percent of undergraduate enrollment that are women',\n",
       "       'Percent of graduate enrollment that are American Indian or Alaska Native',\n",
       "       'Percent of graduate enrollment that are Asian',\n",
       "       'Percent of graduate enrollment that are Black or African American',\n",
       "       'Percent of graduate enrollment that are Hispanic/Latino',\n",
       "       'Percent of graduate enrollment that are Native Hawaiian or Other Pacific Islander',\n",
       "       'Percent of graduate enrollment that are White',\n",
       "       'Percent of graduate enrollment that are two or more races',\n",
       "       'Percent of graduate enrollment that are Race/ethnicity unknown',\n",
       "       'Percent of graduate enrollment that are Nonresident Alien',\n",
       "       'Percent of graduate enrollment that are Asian/Native Hawaiian/Pacific Islander',\n",
       "       'Percent of graduate enrollment that are women',\n",
       "       'Number of first-time undergraduates - in-state',\n",
       "       'Percent of first-time undergraduates - in-state',\n",
       "       'Number of first-time undergraduates - out-of-state',\n",
       "       'Percent of first-time undergraduates - out-of-state',\n",
       "       'Number of first-time undergraduates - foreign countries',\n",
       "       'Percent of first-time undergraduates - foreign countries',\n",
       "       'Number of first-time undergraduates - residence unknown',\n",
       "       'Percent of first-time undergraduates - residence unknown',\n",
       "       'Graduation rate - Bachelor degree within 4 years, total',\n",
       "       'Graduation rate - Bachelor degree within 5 years, total',\n",
       "       'Graduation rate - Bachelor degree within 6 years, total',\n",
       "       'Percent of freshmen receiving any financial aid',\n",
       "       'Percent of freshmen receiving federal, state, local or institutional grant aid',\n",
       "       'Percent of freshmen  receiving federal grant aid',\n",
       "       'Percent of freshmen receiving Pell grants',\n",
       "       'Percent of freshmen receiving other federal grant aid',\n",
       "       'Percent of freshmen receiving state/local grant aid',\n",
       "       'Percent of freshmen receiving institutional grant aid',\n",
       "       'Percent of freshmen receiving student loan aid',\n",
       "       'Percent of freshmen receiving federal student loans',\n",
       "       'Percent of freshmen receiving other loan aid',\n",
       "       'Endowment assets (year end) per FTE enrollment (GASB)',\n",
       "       'Endowment assets (year end) per FTE enrollment (FASB)'],\n",
       "      dtype=object)"
      ]
     },
     "execution_count": 4,
     "metadata": {},
     "output_type": "execute_result"
    }
   ],
   "source": [
    "admission_dataframe.columns.values"
   ]
  },
  {
   "cell_type": "code",
   "execution_count": null,
   "metadata": {
    "slideshow": {
     "slide_type": "skip"
    }
   },
   "outputs": [],
   "source": []
  }
 ],
 "metadata": {
  "celltoolbar": "Slideshow",
  "kernelspec": {
   "display_name": "Python 3",
   "language": "python",
   "name": "python3"
  }
 },
 "nbformat": 4,
 "nbformat_minor": 2
}
